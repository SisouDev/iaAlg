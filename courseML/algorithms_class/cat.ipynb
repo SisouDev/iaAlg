{
 "cells": [
  {
   "cell_type": "code",
   "execution_count": 18,
   "metadata": {},
   "outputs": [],
   "source": [
    "import numpy as np\n",
    "import pandas as pd\n",
    "import warnings\n",
    "from sklearn.preprocessing import StandardScaler, LabelEncoder, OneHotEncoder\n",
    "from sklearn.compose import ColumnTransformer\n",
    "from sklearn.model_selection import train_test_split, KFold, cross_val_score\n",
    "from sklearn.metrics import confusion_matrix, classification_report, accuracy_score\n",
    "from catboost import CatBoostClassifier"
   ]
  },
  {
   "cell_type": "markdown",
   "metadata": {},
   "source": [
    "# Pré-processamento #"
   ]
  },
  {
   "cell_type": "markdown",
   "metadata": {},
   "source": [
    "### Base e encoder manual ###"
   ]
  },
  {
   "cell_type": "code",
   "execution_count": 2,
   "metadata": {},
   "outputs": [],
   "source": [
    "df = pd.read_csv(\n",
    "    '../data/heart/processed/heart.csv',\n",
    "    sep = ';', encoding = 'utf-8'\n",
    ")"
   ]
  },
  {
   "cell_type": "code",
   "execution_count": 3,
   "metadata": {},
   "outputs": [],
   "source": [
    "warnings.filterwarnings(\"ignore\")"
   ]
  },
  {
   "cell_type": "code",
   "execution_count": 4,
   "metadata": {},
   "outputs": [],
   "source": [
    "df_encod_manual = pd.DataFrame.copy(df)"
   ]
  },
  {
   "cell_type": "code",
   "execution_count": 5,
   "metadata": {},
   "outputs": [],
   "source": [
    "df_encod_manual['Sex'].replace({\n",
    "    'M': 0,\n",
    "    'F': 1\n",
    "}, inplace = True)\n",
    "\n",
    "df_encod_manual['ChestPainType'].replace({\n",
    "    'TA': 0,\n",
    "    'ATA': 1,\n",
    "    'NAP': 2,\n",
    "    'ASY': 3\n",
    "}, inplace = True)\n",
    "\n",
    "df_encod_manual['RestingECG'].replace({\n",
    "    'Normal': 0,\n",
    "    'ST': 1,\n",
    "    'LVH': 2\n",
    "}, inplace = True)\n",
    "\n",
    "df_encod_manual['ExerciseAngina'].replace({\n",
    "    'N': 0,\n",
    "    'Y': 1\n",
    "}, inplace = True)\n",
    "\n",
    "df_encod_manual['ST_Slope'].replace({\n",
    "    'Up': 0,\n",
    "    'Flat': 1,\n",
    "    'Down': 2\n",
    "}, inplace = True)"
   ]
  },
  {
   "cell_type": "markdown",
   "metadata": {},
   "source": [
    "### Separação da base em previsores e classe alvo ###"
   ]
  },
  {
   "cell_type": "code",
   "execution_count": 6,
   "metadata": {},
   "outputs": [],
   "source": [
    "previsores = df_encod_manual.iloc[:, 0:11].values"
   ]
  },
  {
   "cell_type": "code",
   "execution_count": 7,
   "metadata": {},
   "outputs": [],
   "source": [
    "alvo = df_encod_manual.iloc[:, 11].values"
   ]
  },
  {
   "cell_type": "markdown",
   "metadata": {},
   "source": [
    "### Escalonamento ###"
   ]
  },
  {
   "cell_type": "code",
   "execution_count": 8,
   "metadata": {},
   "outputs": [],
   "source": [
    "previsores_esc = StandardScaler().fit_transform(previsores)"
   ]
  },
  {
   "cell_type": "code",
   "execution_count": 9,
   "metadata": {},
   "outputs": [],
   "source": [
    "previsores_df = pd.DataFrame(previsores_esc)"
   ]
  },
  {
   "cell_type": "markdown",
   "metadata": {},
   "source": [
    "#### LabelEncoder ####"
   ]
  },
  {
   "cell_type": "code",
   "execution_count": 10,
   "metadata": {},
   "outputs": [],
   "source": [
    "previsores_label = df.iloc[:, 0:11].values"
   ]
  },
  {
   "cell_type": "code",
   "execution_count": 11,
   "metadata": {},
   "outputs": [],
   "source": [
    "previsores_label[:, 1] = LabelEncoder().fit_transform(previsores[:, 1])"
   ]
  },
  {
   "cell_type": "code",
   "execution_count": 12,
   "metadata": {},
   "outputs": [],
   "source": [
    "previsores_label[:, 2] = LabelEncoder().fit_transform(previsores_label[:, 2])\n",
    "previsores_label[:, 6] = LabelEncoder().fit_transform(previsores_label[:, 6])\n",
    "previsores_label[:, 8] = LabelEncoder().fit_transform(previsores_label[:, 8])\n",
    "previsores_label[:, 10] = LabelEncoder().fit_transform(previsores_label[:, 10])"
   ]
  },
  {
   "cell_type": "markdown",
   "metadata": {},
   "source": [
    "#### OneHotEncoder ####"
   ]
  },
  {
   "cell_type": "code",
   "execution_count": 13,
   "metadata": {},
   "outputs": [],
   "source": [
    "previsores_hot = ColumnTransformer(\n",
    "    transformers = [('OneHot', OneHotEncoder(), [1, 2, 6, 8, 10])],\n",
    "    remainder = 'passthrough'\n",
    ").fit_transform(previsores_label)"
   ]
  },
  {
   "cell_type": "code",
   "execution_count": 14,
   "metadata": {},
   "outputs": [],
   "source": [
    "previsores_hot_df = pd.DataFrame(previsores_hot)"
   ]
  },
  {
   "cell_type": "markdown",
   "metadata": {},
   "source": [
    "#### OneHot + Escalonamento ####"
   ]
  },
  {
   "cell_type": "code",
   "execution_count": 15,
   "metadata": {},
   "outputs": [],
   "source": [
    "previsoresHot_esc = StandardScaler().fit_transform(previsores_hot)"
   ]
  },
  {
   "cell_type": "code",
   "execution_count": 16,
   "metadata": {},
   "outputs": [],
   "source": [
    "previsoresHot_esc_df = pd.DataFrame(previsoresHot_esc)"
   ]
  },
  {
   "cell_type": "markdown",
   "metadata": {},
   "source": [
    "## Separação dos dados em treino e teste ##\n",
    "<span style=\"font-size: small;\"> \n",
    "- <strong>arrays:</strong> nomes dos atributos previsores e alvo.</br>\n",
    "- <strong>test_size:</strong> tamanho em porcentagem dos dados de teste. default é none. </br> \n",
    "- <strong>train_size:</strong> tamanho em porcentagem dos dados de treinamento.default é none. </br>  \n",
    "- <strong>random_state:</strong> nomeação de um estado aleatório. </br>\n",
    "- <strong>shuffle:</strong> embaralhamento dos dados aleatórios. Associado com o random_state ocorre o mesmo embaralhamento sempre. Default é True. </br>\n",
    "- <strong>stratify:</strong> Possibilidade de dividir os dados de forma estratificada. Default é None (nesse caso é mantido a proporção, isto é, se tem 30% de zeros e 70% de 1 no dataframe, na separação em treinamento e teste se manterá essa proporção). </span>"
   ]
  },
  {
   "cell_type": "code",
   "execution_count": 17,
   "metadata": {},
   "outputs": [],
   "source": [
    "x_train, x_test, y_train, y_test = train_test_split(\n",
    "    previsoresHot_esc, alvo,\n",
    "    test_size = 0.3, random_state = 0\n",
    ")"
   ]
  },
  {
   "cell_type": "markdown",
   "metadata": {},
   "source": [
    "# Previsores #\n",
    "<span style=\"font-size: 13px;\">\n",
    "<li> <strong>previsores</strong> -> Atributos codificados manualmente sem escalonamento.</li></br>\n",
    "<li> <strong>previsoresHot_esc</strong> -> Atributos codificados com LabelEncoder e OneHotEncoder e escalonados.</li></br>\n",
    "<li> <strong>previsores_esc</strong> -> Atributos codificados manualmente e escalonados.</li></br>\n",
    "<li> <strong>previsores_hot</strong> -> Atributos codificados com OneHotEncoder sem escalonamento.</li></br>\n",
    "<li> <strong>previsores_label</strong> -> Atributos codificados com LabelEncoder e sem escalonamento. </li></br>\n",
    "</span>"
   ]
  },
  {
   "cell_type": "markdown",
   "metadata": {},
   "source": [
    "# CatBoost #\n",
    "<span style=\"font-size: 13px;\">\n",
    "\n",
    "**Conceitos Fundamentais** </br>\n",
    "\n",
    "O CatBoost é baseado na técnica de Gradient Boosting, que combina vários modelos de aprendizado de máquina fracos para criar um modelo mais robusto. Ele também se destaca por sua capacidade de lidar diretamente com variáveis categóricas, sem a necessidade de codificação prévia.\n",
    "\n",
    "**Gradient Boosting:** </br>\n",
    "\n",
    "O Gradient Boosting é uma técnica de aprendizado de máquina que cria um modelo preditivo combinando várias iterações de modelos simples. Cada modelo é ajustado para corrigir os erros do modelo anterior.\n",
    "\n",
    "**Variáveis Categóricas:** </br>\n",
    "\n",
    "As variáveis categóricas são características que representam uma categoria ou grupo, em vez de um valor numérico. Exemplos incluem cores, países e tipos de produtos. Tradicionalmente, essas variáveis precisam ser codificadas antes de serem usadas em modelos de aprendizado de máquina.\n",
    "\n",
    "**Funcionamento** </br>\n",
    "\n",
    "O CatBoost se destaca por sua capacidade de lidar diretamente com variáveis categóricas, sem a necessidade de codificação prévia. Ele usa uma técnica chamada Codificação de Impacto para transformar variáveis categóricas em valores numéricos durante o treinamento.\n",
    "\n",
    "**Codificação de Impacto:** </br>\n",
    "\n",
    "A Codificação de Impacto é uma técnica que atribui a cada categoria de uma variável categórica um valor com base em seu impacto nas previsões do modelo. Isso permite que o modelo aprenda a importância de cada categoria diretamente dos dados.\n",
    "\n",
    "**Parâmetros** </br>\n",
    "\n",
    "O CatBoost oferece uma variedade de parâmetros que podem ser ajustados para otimizar o desempenho do modelo. Aqui estão alguns exemplos:\n",
    "\n",
    "**Parâmetros de Regularização:** </br>\n",
    "\n",
    "- `depth`: A profundidade máxima de cada árvore.\n",
    "- `learning_rate`: Taxa de aprendizado para atualizar os modelos.\n",
    "- `l2_leaf_reg`: Força da regularização L2.\n",
    "\n",
    "**Parâmetros de Treinamento:** </br>\n",
    "\n",
    "- `iterations`: O número máximo de iterações de treinamento.\n",
    "- `early_stopping_rounds`: Número de iterações sem melhoria antes de parar o treinamento.\n",
    "</span>"
   ]
  },
  {
   "cell_type": "code",
   "execution_count": 19,
   "metadata": {},
   "outputs": [],
   "source": [
    "previsores_cat = df.iloc[:, 0:11]"
   ]
  },
  {
   "cell_type": "code",
   "execution_count": 20,
   "metadata": {},
   "outputs": [],
   "source": [
    "alvo_cat = df.iloc[:, 11]"
   ]
  },
  {
   "cell_type": "code",
   "execution_count": 21,
   "metadata": {},
   "outputs": [],
   "source": [
    "x_train, x_test, y_train, y_test = train_test_split(previsores_cat, alvo_cat, test_size = 0.3, random_state = 3)"
   ]
  },
  {
   "cell_type": "code",
   "execution_count": 22,
   "metadata": {},
   "outputs": [],
   "source": [
    "categoricas = ['Sex', 'ChestPainType', 'RestingECG', 'ExerciseAngina', 'ST_Slope']"
   ]
  },
  {
   "cell_type": "code",
   "execution_count": 23,
   "metadata": {},
   "outputs": [],
   "source": [
    "catboost = CatBoostClassifier(\n",
    "    task_type = 'CPU', iterations = 120,\n",
    "    learning_rate = 0.1, depth = 8,\n",
    "    random_state = 5, eval_metric = 'Accuracy'\n",
    ")"
   ]
  },
  {
   "cell_type": "code",
   "execution_count": 24,
   "metadata": {},
   "outputs": [
    {
     "data": {
      "application/vnd.jupyter.widget-view+json": {
       "model_id": "ba7042ae2ba54786b6e013c9bc7e9953",
       "version_major": 2,
       "version_minor": 0
      },
      "text/plain": [
       "MetricVisualizer(layout=Layout(align_self='stretch', height='500px'))"
      ]
     },
     "metadata": {},
     "output_type": "display_data"
    },
    {
     "name": "stdout",
     "output_type": "stream",
     "text": [
      "0:\tlearn: 0.8861154\ttest: 0.8188406\tbest: 0.8188406 (0)\ttotal: 172ms\tremaining: 20.5s\n",
      "1:\tlearn: 0.8580343\ttest: 0.8333333\tbest: 0.8333333 (1)\ttotal: 191ms\tremaining: 11.3s\n",
      "2:\tlearn: 0.8549142\ttest: 0.8333333\tbest: 0.8333333 (1)\ttotal: 222ms\tremaining: 8.65s\n",
      "3:\tlearn: 0.8439938\ttest: 0.8442029\tbest: 0.8442029 (3)\ttotal: 228ms\tremaining: 6.6s\n",
      "4:\tlearn: 0.8299532\ttest: 0.8369565\tbest: 0.8442029 (3)\ttotal: 236ms\tremaining: 5.42s\n",
      "5:\tlearn: 0.8455538\ttest: 0.8369565\tbest: 0.8442029 (3)\ttotal: 249ms\tremaining: 4.73s\n",
      "6:\tlearn: 0.8564743\ttest: 0.8369565\tbest: 0.8442029 (3)\ttotal: 264ms\tremaining: 4.26s\n",
      "7:\tlearn: 0.8439938\ttest: 0.8369565\tbest: 0.8442029 (3)\ttotal: 275ms\tremaining: 3.85s\n",
      "8:\tlearn: 0.8533541\ttest: 0.8442029\tbest: 0.8442029 (3)\ttotal: 290ms\tremaining: 3.58s\n",
      "9:\tlearn: 0.8564743\ttest: 0.8405797\tbest: 0.8442029 (3)\ttotal: 308ms\tremaining: 3.38s\n",
      "10:\tlearn: 0.8533541\ttest: 0.8442029\tbest: 0.8442029 (3)\ttotal: 327ms\tremaining: 3.23s\n",
      "11:\tlearn: 0.8439938\ttest: 0.8442029\tbest: 0.8442029 (3)\ttotal: 332ms\tremaining: 2.99s\n",
      "12:\tlearn: 0.8471139\ttest: 0.8442029\tbest: 0.8442029 (3)\ttotal: 347ms\tremaining: 2.85s\n",
      "13:\tlearn: 0.8533541\ttest: 0.8478261\tbest: 0.8478261 (13)\ttotal: 386ms\tremaining: 2.92s\n",
      "14:\tlearn: 0.8611544\ttest: 0.8478261\tbest: 0.8478261 (13)\ttotal: 408ms\tremaining: 2.86s\n",
      "15:\tlearn: 0.8627145\ttest: 0.8478261\tbest: 0.8478261 (13)\ttotal: 439ms\tremaining: 2.85s\n",
      "16:\tlearn: 0.8642746\ttest: 0.8514493\tbest: 0.8514493 (16)\ttotal: 460ms\tremaining: 2.79s\n",
      "17:\tlearn: 0.8658346\ttest: 0.8514493\tbest: 0.8514493 (16)\ttotal: 477ms\tremaining: 2.7s\n",
      "18:\tlearn: 0.8658346\ttest: 0.8550725\tbest: 0.8550725 (18)\ttotal: 492ms\tremaining: 2.62s\n",
      "19:\tlearn: 0.8720749\ttest: 0.8514493\tbest: 0.8550725 (18)\ttotal: 512ms\tremaining: 2.56s\n",
      "20:\tlearn: 0.8783151\ttest: 0.8586957\tbest: 0.8586957 (20)\ttotal: 537ms\tremaining: 2.53s\n",
      "21:\tlearn: 0.8798752\ttest: 0.8514493\tbest: 0.8586957 (20)\ttotal: 560ms\tremaining: 2.5s\n",
      "22:\tlearn: 0.8829953\ttest: 0.8514493\tbest: 0.8586957 (20)\ttotal: 595ms\tremaining: 2.51s\n",
      "23:\tlearn: 0.8829953\ttest: 0.8514493\tbest: 0.8586957 (20)\ttotal: 619ms\tremaining: 2.48s\n",
      "24:\tlearn: 0.8861154\ttest: 0.8514493\tbest: 0.8586957 (20)\ttotal: 645ms\tremaining: 2.45s\n",
      "25:\tlearn: 0.8923557\ttest: 0.8550725\tbest: 0.8586957 (20)\ttotal: 666ms\tremaining: 2.41s\n",
      "26:\tlearn: 0.8939158\ttest: 0.8550725\tbest: 0.8586957 (20)\ttotal: 684ms\tremaining: 2.35s\n",
      "27:\tlearn: 0.8907956\ttest: 0.8623188\tbest: 0.8623188 (27)\ttotal: 690ms\tremaining: 2.27s\n",
      "28:\tlearn: 0.8923557\ttest: 0.8659420\tbest: 0.8659420 (28)\ttotal: 707ms\tremaining: 2.22s\n",
      "29:\tlearn: 0.8923557\ttest: 0.8659420\tbest: 0.8659420 (28)\ttotal: 724ms\tremaining: 2.17s\n",
      "30:\tlearn: 0.8939158\ttest: 0.8659420\tbest: 0.8659420 (28)\ttotal: 744ms\tremaining: 2.13s\n",
      "31:\tlearn: 0.8985959\ttest: 0.8659420\tbest: 0.8659420 (28)\ttotal: 762ms\tremaining: 2.1s\n",
      "32:\tlearn: 0.8985959\ttest: 0.8659420\tbest: 0.8659420 (28)\ttotal: 782ms\tremaining: 2.06s\n",
      "33:\tlearn: 0.8985959\ttest: 0.8659420\tbest: 0.8659420 (28)\ttotal: 798ms\tremaining: 2.02s\n",
      "34:\tlearn: 0.9001560\ttest: 0.8659420\tbest: 0.8659420 (28)\ttotal: 818ms\tremaining: 1.99s\n",
      "35:\tlearn: 0.9032761\ttest: 0.8659420\tbest: 0.8659420 (28)\ttotal: 840ms\tremaining: 1.96s\n",
      "36:\tlearn: 0.9063963\ttest: 0.8659420\tbest: 0.8659420 (28)\ttotal: 869ms\tremaining: 1.95s\n",
      "37:\tlearn: 0.9063963\ttest: 0.8623188\tbest: 0.8659420 (28)\ttotal: 886ms\tremaining: 1.91s\n",
      "38:\tlearn: 0.9095164\ttest: 0.8623188\tbest: 0.8659420 (28)\ttotal: 903ms\tremaining: 1.88s\n",
      "39:\tlearn: 0.9110764\ttest: 0.8659420\tbest: 0.8659420 (28)\ttotal: 923ms\tremaining: 1.84s\n",
      "40:\tlearn: 0.9110764\ttest: 0.8659420\tbest: 0.8659420 (28)\ttotal: 947ms\tremaining: 1.82s\n",
      "41:\tlearn: 0.9126365\ttest: 0.8695652\tbest: 0.8695652 (41)\ttotal: 966ms\tremaining: 1.79s\n",
      "42:\tlearn: 0.9126365\ttest: 0.8695652\tbest: 0.8695652 (41)\ttotal: 983ms\tremaining: 1.76s\n",
      "43:\tlearn: 0.9126365\ttest: 0.8659420\tbest: 0.8695652 (41)\ttotal: 999ms\tremaining: 1.73s\n",
      "44:\tlearn: 0.9157566\ttest: 0.8659420\tbest: 0.8695652 (41)\ttotal: 1.02s\tremaining: 1.69s\n",
      "45:\tlearn: 0.9110764\ttest: 0.8623188\tbest: 0.8695652 (41)\ttotal: 1.03s\tremaining: 1.67s\n",
      "46:\tlearn: 0.9173167\ttest: 0.8623188\tbest: 0.8695652 (41)\ttotal: 1.06s\tremaining: 1.64s\n",
      "47:\tlearn: 0.9173167\ttest: 0.8659420\tbest: 0.8695652 (41)\ttotal: 1.08s\tremaining: 1.62s\n",
      "48:\tlearn: 0.9157566\ttest: 0.8623188\tbest: 0.8695652 (41)\ttotal: 1.09s\tremaining: 1.58s\n",
      "49:\tlearn: 0.9173167\ttest: 0.8623188\tbest: 0.8695652 (41)\ttotal: 1.1s\tremaining: 1.55s\n",
      "50:\tlearn: 0.9157566\ttest: 0.8623188\tbest: 0.8695652 (41)\ttotal: 1.13s\tremaining: 1.52s\n",
      "51:\tlearn: 0.9173167\ttest: 0.8695652\tbest: 0.8695652 (41)\ttotal: 1.15s\tremaining: 1.5s\n",
      "52:\tlearn: 0.9157566\ttest: 0.8695652\tbest: 0.8695652 (41)\ttotal: 1.18s\tremaining: 1.49s\n",
      "53:\tlearn: 0.9157566\ttest: 0.8731884\tbest: 0.8731884 (53)\ttotal: 1.23s\tremaining: 1.5s\n",
      "54:\tlearn: 0.9157566\ttest: 0.8731884\tbest: 0.8731884 (53)\ttotal: 1.28s\tremaining: 1.51s\n",
      "55:\tlearn: 0.9157566\ttest: 0.8695652\tbest: 0.8731884 (53)\ttotal: 1.29s\tremaining: 1.48s\n",
      "56:\tlearn: 0.9157566\ttest: 0.8695652\tbest: 0.8731884 (53)\ttotal: 1.31s\tremaining: 1.45s\n",
      "57:\tlearn: 0.9157566\ttest: 0.8659420\tbest: 0.8731884 (53)\ttotal: 1.34s\tremaining: 1.43s\n",
      "58:\tlearn: 0.9173167\ttest: 0.8659420\tbest: 0.8731884 (53)\ttotal: 1.36s\tremaining: 1.4s\n",
      "59:\tlearn: 0.9188768\ttest: 0.8659420\tbest: 0.8731884 (53)\ttotal: 1.37s\tremaining: 1.37s\n",
      "60:\tlearn: 0.9173167\ttest: 0.8623188\tbest: 0.8731884 (53)\ttotal: 1.39s\tremaining: 1.34s\n",
      "61:\tlearn: 0.9188768\ttest: 0.8659420\tbest: 0.8731884 (53)\ttotal: 1.41s\tremaining: 1.32s\n",
      "62:\tlearn: 0.9204368\ttest: 0.8659420\tbest: 0.8731884 (53)\ttotal: 1.42s\tremaining: 1.29s\n",
      "63:\tlearn: 0.9204368\ttest: 0.8659420\tbest: 0.8731884 (53)\ttotal: 1.44s\tremaining: 1.26s\n",
      "64:\tlearn: 0.9188768\ttest: 0.8659420\tbest: 0.8731884 (53)\ttotal: 1.46s\tremaining: 1.24s\n",
      "65:\tlearn: 0.9188768\ttest: 0.8659420\tbest: 0.8731884 (53)\ttotal: 1.48s\tremaining: 1.21s\n",
      "66:\tlearn: 0.9188768\ttest: 0.8659420\tbest: 0.8731884 (53)\ttotal: 1.5s\tremaining: 1.19s\n",
      "67:\tlearn: 0.9188768\ttest: 0.8659420\tbest: 0.8731884 (53)\ttotal: 1.52s\tremaining: 1.17s\n",
      "68:\tlearn: 0.9188768\ttest: 0.8659420\tbest: 0.8731884 (53)\ttotal: 1.54s\tremaining: 1.14s\n",
      "69:\tlearn: 0.9188768\ttest: 0.8695652\tbest: 0.8731884 (53)\ttotal: 1.56s\tremaining: 1.11s\n",
      "70:\tlearn: 0.9188768\ttest: 0.8731884\tbest: 0.8731884 (53)\ttotal: 1.58s\tremaining: 1.09s\n",
      "71:\tlearn: 0.9188768\ttest: 0.8731884\tbest: 0.8731884 (53)\ttotal: 1.59s\tremaining: 1.06s\n",
      "72:\tlearn: 0.9188768\ttest: 0.8731884\tbest: 0.8731884 (53)\ttotal: 1.61s\tremaining: 1.03s\n",
      "73:\tlearn: 0.9188768\ttest: 0.8731884\tbest: 0.8731884 (53)\ttotal: 1.61s\tremaining: 1s\n",
      "74:\tlearn: 0.9188768\ttest: 0.8731884\tbest: 0.8731884 (53)\ttotal: 1.63s\tremaining: 978ms\n",
      "75:\tlearn: 0.9204368\ttest: 0.8731884\tbest: 0.8731884 (53)\ttotal: 1.65s\tremaining: 953ms\n",
      "76:\tlearn: 0.9204368\ttest: 0.8731884\tbest: 0.8731884 (53)\ttotal: 1.66s\tremaining: 929ms\n",
      "77:\tlearn: 0.9204368\ttest: 0.8731884\tbest: 0.8731884 (53)\ttotal: 1.68s\tremaining: 905ms\n",
      "78:\tlearn: 0.9204368\ttest: 0.8731884\tbest: 0.8731884 (53)\ttotal: 1.69s\tremaining: 877ms\n",
      "79:\tlearn: 0.9204368\ttest: 0.8731884\tbest: 0.8731884 (53)\ttotal: 1.71s\tremaining: 854ms\n",
      "80:\tlearn: 0.9204368\ttest: 0.8731884\tbest: 0.8731884 (53)\ttotal: 1.72s\tremaining: 829ms\n",
      "81:\tlearn: 0.9204368\ttest: 0.8731884\tbest: 0.8731884 (53)\ttotal: 1.75s\tremaining: 812ms\n",
      "82:\tlearn: 0.9219969\ttest: 0.8695652\tbest: 0.8731884 (53)\ttotal: 1.77s\tremaining: 790ms\n",
      "83:\tlearn: 0.9219969\ttest: 0.8695652\tbest: 0.8731884 (53)\ttotal: 1.79s\tremaining: 769ms\n",
      "84:\tlearn: 0.9219969\ttest: 0.8695652\tbest: 0.8731884 (53)\ttotal: 1.8s\tremaining: 743ms\n",
      "85:\tlearn: 0.9219969\ttest: 0.8695652\tbest: 0.8731884 (53)\ttotal: 1.81s\tremaining: 716ms\n",
      "86:\tlearn: 0.9219969\ttest: 0.8695652\tbest: 0.8731884 (53)\ttotal: 1.82s\tremaining: 692ms\n",
      "87:\tlearn: 0.9235569\ttest: 0.8731884\tbest: 0.8731884 (53)\ttotal: 1.84s\tremaining: 668ms\n",
      "88:\tlearn: 0.9235569\ttest: 0.8731884\tbest: 0.8731884 (53)\ttotal: 1.84s\tremaining: 642ms\n",
      "89:\tlearn: 0.9235569\ttest: 0.8731884\tbest: 0.8731884 (53)\ttotal: 1.86s\tremaining: 620ms\n",
      "90:\tlearn: 0.9235569\ttest: 0.8731884\tbest: 0.8731884 (53)\ttotal: 1.88s\tremaining: 598ms\n",
      "91:\tlearn: 0.9251170\ttest: 0.8731884\tbest: 0.8731884 (53)\ttotal: 1.9s\tremaining: 579ms\n",
      "92:\tlearn: 0.9251170\ttest: 0.8731884\tbest: 0.8731884 (53)\ttotal: 1.92s\tremaining: 558ms\n",
      "93:\tlearn: 0.9251170\ttest: 0.8731884\tbest: 0.8731884 (53)\ttotal: 1.93s\tremaining: 534ms\n",
      "94:\tlearn: 0.9251170\ttest: 0.8731884\tbest: 0.8731884 (53)\ttotal: 1.95s\tremaining: 512ms\n",
      "95:\tlearn: 0.9235569\ttest: 0.8731884\tbest: 0.8731884 (53)\ttotal: 1.96s\tremaining: 490ms\n",
      "96:\tlearn: 0.9235569\ttest: 0.8731884\tbest: 0.8731884 (53)\ttotal: 1.97s\tremaining: 467ms\n",
      "97:\tlearn: 0.9251170\ttest: 0.8731884\tbest: 0.8731884 (53)\ttotal: 1.98s\tremaining: 445ms\n",
      "98:\tlearn: 0.9235569\ttest: 0.8731884\tbest: 0.8731884 (53)\ttotal: 2s\tremaining: 424ms\n",
      "99:\tlearn: 0.9235569\ttest: 0.8731884\tbest: 0.8731884 (53)\ttotal: 2.01s\tremaining: 403ms\n",
      "100:\tlearn: 0.9235569\ttest: 0.8731884\tbest: 0.8731884 (53)\ttotal: 2.02s\tremaining: 381ms\n",
      "101:\tlearn: 0.9235569\ttest: 0.8731884\tbest: 0.8731884 (53)\ttotal: 2.03s\tremaining: 359ms\n",
      "102:\tlearn: 0.9235569\ttest: 0.8731884\tbest: 0.8731884 (53)\ttotal: 2.05s\tremaining: 338ms\n",
      "103:\tlearn: 0.9235569\ttest: 0.8731884\tbest: 0.8731884 (53)\ttotal: 2.06s\tremaining: 318ms\n",
      "104:\tlearn: 0.9235569\ttest: 0.8731884\tbest: 0.8731884 (53)\ttotal: 2.08s\tremaining: 297ms\n",
      "105:\tlearn: 0.9235569\ttest: 0.8731884\tbest: 0.8731884 (53)\ttotal: 2.09s\tremaining: 276ms\n",
      "106:\tlearn: 0.9235569\ttest: 0.8731884\tbest: 0.8731884 (53)\ttotal: 2.11s\tremaining: 256ms\n",
      "107:\tlearn: 0.9235569\ttest: 0.8731884\tbest: 0.8731884 (53)\ttotal: 2.13s\tremaining: 236ms\n",
      "108:\tlearn: 0.9235569\ttest: 0.8731884\tbest: 0.8731884 (53)\ttotal: 2.14s\tremaining: 216ms\n",
      "109:\tlearn: 0.9235569\ttest: 0.8731884\tbest: 0.8731884 (53)\ttotal: 2.15s\tremaining: 196ms\n",
      "110:\tlearn: 0.9235569\ttest: 0.8731884\tbest: 0.8731884 (53)\ttotal: 2.17s\tremaining: 176ms\n",
      "111:\tlearn: 0.9235569\ttest: 0.8731884\tbest: 0.8731884 (53)\ttotal: 2.18s\tremaining: 156ms\n",
      "112:\tlearn: 0.9235569\ttest: 0.8731884\tbest: 0.8731884 (53)\ttotal: 2.2s\tremaining: 136ms\n",
      "113:\tlearn: 0.9235569\ttest: 0.8731884\tbest: 0.8731884 (53)\ttotal: 2.22s\tremaining: 117ms\n",
      "114:\tlearn: 0.9235569\ttest: 0.8731884\tbest: 0.8731884 (53)\ttotal: 2.23s\tremaining: 97.2ms\n",
      "115:\tlearn: 0.9235569\ttest: 0.8731884\tbest: 0.8731884 (53)\ttotal: 2.25s\tremaining: 77.6ms\n",
      "116:\tlearn: 0.9235569\ttest: 0.8731884\tbest: 0.8731884 (53)\ttotal: 2.26s\tremaining: 58ms\n",
      "117:\tlearn: 0.9282371\ttest: 0.8731884\tbest: 0.8731884 (53)\ttotal: 2.28s\tremaining: 38.6ms\n",
      "118:\tlearn: 0.9266771\ttest: 0.8731884\tbest: 0.8731884 (53)\ttotal: 2.29s\tremaining: 19.3ms\n",
      "119:\tlearn: 0.9266771\ttest: 0.8731884\tbest: 0.8731884 (53)\ttotal: 2.31s\tremaining: 0us\n",
      "\n",
      "bestTest = 0.8731884058\n",
      "bestIteration = 53\n",
      "\n",
      "Shrink model to first 54 iterations.\n"
     ]
    },
    {
     "data": {
      "text/plain": [
       "<catboost.core.CatBoostClassifier at 0x264854516d0>"
      ]
     },
     "execution_count": 24,
     "metadata": {},
     "output_type": "execute_result"
    }
   ],
   "source": [
    "catboost.fit(x_train, y_train, cat_features = categoricas, plot = True, eval_set = (x_test, y_test))"
   ]
  },
  {
   "cell_type": "code",
   "execution_count": 25,
   "metadata": {},
   "outputs": [],
   "source": [
    "previsoes = catboost.predict(x_test)"
   ]
  }
 ],
 "metadata": {
  "kernelspec": {
   "display_name": "venv",
   "language": "python",
   "name": "python3"
  },
  "language_info": {
   "codemirror_mode": {
    "name": "ipython",
    "version": 3
   },
   "file_extension": ".py",
   "mimetype": "text/x-python",
   "name": "python",
   "nbconvert_exporter": "python",
   "pygments_lexer": "ipython3",
   "version": "3.11.5"
  }
 },
 "nbformat": 4,
 "nbformat_minor": 2
}

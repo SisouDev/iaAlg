{
 "cells": [
  {
   "cell_type": "code",
   "execution_count": 277,
   "metadata": {},
   "outputs": [],
   "source": [
    "import numpy as np\n",
    "import pandas as pd\n",
    "import warnings\n",
    "from sklearn.preprocessing import StandardScaler, LabelEncoder, OneHotEncoder\n",
    "from sklearn.compose import ColumnTransformer\n",
    "from sklearn.model_selection import train_test_split, KFold, cross_val_score\n",
    "from sklearn.metrics import accuracy_score, confusion_matrix, classification_report\n",
    "from sklearn.ensemble import RandomForestClassifier\n",
    "import matplotlib.pyplot as plt"
   ]
  },
  {
   "cell_type": "markdown",
   "metadata": {},
   "source": [
    "# Pré-processamento #"
   ]
  },
  {
   "cell_type": "markdown",
   "metadata": {},
   "source": [
    "### Base e encoder manual ###"
   ]
  },
  {
   "cell_type": "code",
   "execution_count": 278,
   "metadata": {},
   "outputs": [],
   "source": [
    "df = pd.read_csv(\n",
    "    '../data/heart/processed/heart.csv',\n",
    "    sep = ';', encoding = 'utf-8'\n",
    ")"
   ]
  },
  {
   "cell_type": "code",
   "execution_count": 279,
   "metadata": {},
   "outputs": [],
   "source": [
    "warnings.filterwarnings(\"ignore\")"
   ]
  },
  {
   "cell_type": "code",
   "execution_count": 280,
   "metadata": {},
   "outputs": [],
   "source": [
    "df_encod_manual = pd.DataFrame.copy(df)"
   ]
  },
  {
   "cell_type": "code",
   "execution_count": 281,
   "metadata": {},
   "outputs": [],
   "source": [
    "df_encod_manual['Sex'].replace({\n",
    "    'M': 0,\n",
    "    'F': 1\n",
    "}, inplace = True)\n",
    "\n",
    "df_encod_manual['ChestPainType'].replace({\n",
    "    'TA': 0,\n",
    "    'ATA': 1,\n",
    "    'NAP': 2,\n",
    "    'ASY': 3\n",
    "}, inplace = True)\n",
    "\n",
    "df_encod_manual['RestingECG'].replace({\n",
    "    'Normal': 0,\n",
    "    'ST': 1,\n",
    "    'LVH': 2\n",
    "}, inplace = True)\n",
    "\n",
    "df_encod_manual['ExerciseAngina'].replace({\n",
    "    'N': 0,\n",
    "    'Y': 1\n",
    "}, inplace = True)\n",
    "\n",
    "df_encod_manual['ST_Slope'].replace({\n",
    "    'Up': 0,\n",
    "    'Flat': 1,\n",
    "    'Down': 2\n",
    "}, inplace = True)"
   ]
  },
  {
   "cell_type": "markdown",
   "metadata": {},
   "source": [
    "### Separação da base em previsores e classe alvo ###"
   ]
  },
  {
   "cell_type": "code",
   "execution_count": 282,
   "metadata": {},
   "outputs": [],
   "source": [
    "previsores = df_encod_manual.iloc[:, 0:11].values"
   ]
  },
  {
   "cell_type": "code",
   "execution_count": 283,
   "metadata": {},
   "outputs": [],
   "source": [
    "alvo = df_encod_manual.iloc[:, 11].values"
   ]
  },
  {
   "cell_type": "markdown",
   "metadata": {},
   "source": [
    "### Escalonamento ###"
   ]
  },
  {
   "cell_type": "code",
   "execution_count": 284,
   "metadata": {},
   "outputs": [],
   "source": [
    "previsores_esc = StandardScaler().fit_transform(previsores)"
   ]
  },
  {
   "cell_type": "code",
   "execution_count": 285,
   "metadata": {},
   "outputs": [],
   "source": [
    "previsores_df = pd.DataFrame(previsores_esc)"
   ]
  },
  {
   "cell_type": "markdown",
   "metadata": {},
   "source": [
    "#### LabelEncoder ####"
   ]
  },
  {
   "cell_type": "code",
   "execution_count": 286,
   "metadata": {},
   "outputs": [],
   "source": [
    "previsores_label = df.iloc[:, 0:11].values"
   ]
  },
  {
   "cell_type": "code",
   "execution_count": 287,
   "metadata": {},
   "outputs": [],
   "source": [
    "previsores_label[:, 1] = LabelEncoder().fit_transform(previsores[:, 1])"
   ]
  },
  {
   "cell_type": "code",
   "execution_count": 288,
   "metadata": {},
   "outputs": [],
   "source": [
    "previsores_label[:, 2] = LabelEncoder().fit_transform(previsores_label[:, 2])\n",
    "previsores_label[:, 6] = LabelEncoder().fit_transform(previsores_label[:, 6])\n",
    "previsores_label[:, 8] = LabelEncoder().fit_transform(previsores_label[:, 8])\n",
    "previsores_label[:, 10] = LabelEncoder().fit_transform(previsores_label[:, 10])"
   ]
  },
  {
   "cell_type": "markdown",
   "metadata": {},
   "source": [
    "#### OneHotEncoder ####"
   ]
  },
  {
   "cell_type": "code",
   "execution_count": 289,
   "metadata": {},
   "outputs": [],
   "source": [
    "previsores_hot = ColumnTransformer(\n",
    "    transformers = [('OneHot', OneHotEncoder(), [1, 2, 6, 8, 10])],\n",
    "    remainder = 'passthrough'\n",
    ").fit_transform(previsores_label)"
   ]
  },
  {
   "cell_type": "code",
   "execution_count": 290,
   "metadata": {},
   "outputs": [],
   "source": [
    "previsores_hot_df = pd.DataFrame(previsores_hot)"
   ]
  },
  {
   "cell_type": "markdown",
   "metadata": {},
   "source": [
    "#### OneHot + Escalonamento ####"
   ]
  },
  {
   "cell_type": "code",
   "execution_count": 291,
   "metadata": {},
   "outputs": [],
   "source": [
    "previsoresHot_esc = StandardScaler().fit_transform(previsores_hot)"
   ]
  },
  {
   "cell_type": "code",
   "execution_count": 292,
   "metadata": {},
   "outputs": [],
   "source": [
    "previsoresHot_esc_df = pd.DataFrame(previsoresHot_esc)"
   ]
  },
  {
   "cell_type": "markdown",
   "metadata": {},
   "source": [
    "## Separação dos dados em treino e teste ##\n",
    "<span style=\"font-size: small;\"> \n",
    "- <strong>arrays:</strong> nomes dos atributos previsores e alvo.</br>\n",
    "- <strong>test_size:</strong> tamanho em porcentagem dos dados de teste. default é none. </br> \n",
    "- <strong>train_size:</strong> tamanho em porcentagem dos dados de treinamento.default é none. </br>  \n",
    "- <strong>random_state:</strong> nomeação de um estado aleatório. </br>\n",
    "- <strong>shuffle:</strong> embaralhamento dos dados aleatórios. Associado com o random_state ocorre o mesmo embaralhamento sempre. Default é True. </br>\n",
    "- <strong>stratify:</strong> Possibilidade de dividir os dados de forma estratificada. Default é None (nesse caso é mantido a proporção, isto é, se tem 30% de zeros e 70% de 1 no dataframe, na separação em treinamento e teste se manterá essa proporção). </span>"
   ]
  },
  {
   "cell_type": "code",
   "execution_count": 672,
   "metadata": {},
   "outputs": [],
   "source": [
    "x_train, x_test, y_train, y_test = train_test_split(\n",
    "    previsores, alvo,\n",
    "    test_size = 0.3, random_state = 0\n",
    ")"
   ]
  },
  {
   "cell_type": "markdown",
   "metadata": {},
   "source": [
    "# Previsores #\n",
    "<span style=\"font-size: 13px;\">\n",
    "<li> <strong>previsores</strong> -> Atributos codificados manualmente sem escalonamento.</li></br>\n",
    "<li> <strong>previsoresHot_esc</strong> -> Atributos codificados com LabelEncoder e OneHotEncoder e escalonados.</li></br>\n",
    "<li> <strong>previsores_esc</strong> -> Atributos codificados manualmente e escalonados.</li></br>\n",
    "<li> <strong>previsores_hot</strong> -> Atributos codificados com OneHotEncoder sem escalonamento.</li></br>\n",
    "<li> <strong>previsores_label</strong> -> Atributos codificados com LabelEncoder e sem escalonamento. </li></br>\n",
    "</span>"
   ]
  },
  {
   "cell_type": "markdown",
   "metadata": {},
   "source": [
    "# Random Forest #\n",
    "<span style=\"font-size: 12.5px;\">\n",
    "\n",
    "\n",
    "**Árvores de Decisão** </br>\n",
    "Uma árvore de decisão é uma estrutura em forma de árvore onde cada nó representa uma característica, cada ramo representa uma decisão baseada nessa característica e cada folha representa um resultado.\n",
    "\n",
    "**Construção do Random Forest** </br>\n",
    "- **Bootstrap Aggregating (Bagging):** O Random Forest cria uma coleção de árvores de decisão, sendo cada árvore construída de forma independente e aleatória através do bagging, que consiste na seleção aleatória de amostras de treinamento com substituição.\n",
    "- **Aleatoriedade nas Divisões de Características:** Durante a construção de cada árvore, em cada nó, um subconjunto aleatório de características é selecionado para divisão, adicionando diversidade às árvores.\n",
    "\n",
    "\n",
    "- **Importância das Características:** Uma medida comum da importância das características é a diminuição média da impureza causada pela divisão dessa característica em todas as árvores do Random Forest.\n",
    "\n",
    "$\n",
    "\\text{Entropia}(D) = - \\sum_{i=1}^{k} p_i \\log_2(p_i)\n",
    "$\n",
    "\n",
    "$ \n",
    "Gini(D) = 1 - \\sum_{i=1}^{k} (p_i)^2 \n",
    "$\n",
    "\n",
    "$\n",
    "\\text{Ganho}(D, \\text{feature}) = \\text{Entropia}(D) - \\sum_{j} \\frac{|D_j|}{|D|} \\text{Entropia}(D_j)\n",
    "$\n",
    "\n",
    "**Parâmetros** </br>\n",
    "Alguns parâmetros importantes a serem considerados ao utilizar o Random Forest incluem:\n",
    "- <strong>Número de Árvores:</strong> Determina o número de árvores na floresta.\n",
    "- <strong>Profundidade Máxima das Árvores:</strong>  Controla a profundidade máxima das árvores individuais.\n",
    "- <strong>Número Mínimo de Amostras por Folha:</strong>  Define o número mínimo de amostras necessárias em uma folha para dividir um nó.\n",
    "- <strong>Número Mínimo de Amostras por Divisão:</strong>  Define o número mínimo de amostras necessárias em um nó para ser considerado para divisão.\n",
    "- <strong>Número de Características a Considerar:</strong>  Determina o número de características a serem consideradas em cada divisão.\n",
    "\n",
    "\n",
    "**Vantagens** </br>\n",
    "- Alta Precisão: O Random Forest geralmente produz modelos com alta precisão.\n",
    "- Tolerância a Overfitting: A aleatoriedade introduzida na construção da floresta ajuda a reduzir o overfitting.\n",
    "- Lida Bem com Dados Faltantes e Categóricos: O Random Forest pode lidar diretamente com dados faltantes e categóricos sem a necessidade de pré-processamento adicional.\n",
    "\n",
    "**Desvantagens** </br>\n",
    "- Mais Lento para Treinar: Em comparação com modelos mais simples, o treinamento de um Random Forest pode ser mais demorado devido à construção de múltiplas árvores.\n",
    "- Difícil de Interpretar: Como uma floresta consiste em várias árvores individuais, pode ser difícil interpretar o modelo resultante.\n",
    "\n",
    "**Conclusão** </br>\n",
    "O algoritmo Random Forest é uma ferramenta poderosa para uma variedade de problemas de aprendizado de máquina, oferecendo alta precisão e tolerância a overfitting. No entanto, é importante considerar os parâmetros adequados e estar ciente das suas vantagens e desvantagens ao usá-lo em um contexto específico.\n",
    "\n",
    "</span>"
   ]
  },
  {
   "cell_type": "code",
   "execution_count": 683,
   "metadata": {},
   "outputs": [],
   "source": [
    "random = RandomForestClassifier(\n",
    "    n_estimators = 140, criterion = 'entropy',\n",
    "    random_state = 5, max_depth = 4\n",
    ")\n",
    "random.fit(x_train, y_train);"
   ]
  },
  {
   "cell_type": "code",
   "execution_count": 684,
   "metadata": {},
   "outputs": [],
   "source": [
    "previsoes_test = random.predict(x_test)"
   ]
  },
  {
   "cell_type": "code",
   "execution_count": 685,
   "metadata": {},
   "outputs": [],
   "source": [
    "previsoes_train = random.predict(x_train)"
   ]
  },
  {
   "cell_type": "markdown",
   "metadata": {},
   "source": [
    "## Métricas ##"
   ]
  },
  {
   "cell_type": "markdown",
   "metadata": {},
   "source": [
    "**Dados de Teste**"
   ]
  },
  {
   "cell_type": "code",
   "execution_count": 686,
   "metadata": {},
   "outputs": [
    {
     "name": "stdout",
     "output_type": "stream",
     "text": [
      "Acurácia: 85.87%\n"
     ]
    }
   ],
   "source": [
    "acuracia_test = accuracy_score(y_test, previsoes_test) * 100.0\n",
    "print(\"Acurácia: %.2f%%\" % acuracia_test)"
   ]
  },
  {
   "cell_type": "code",
   "execution_count": 687,
   "metadata": {},
   "outputs": [
    {
     "name": "stdout",
     "output_type": "stream",
     "text": [
      "[[103  18]\n",
      " [ 21 134]]\n"
     ]
    }
   ],
   "source": [
    "print(confusion_matrix(y_test, previsoes_test))"
   ]
  },
  {
   "cell_type": "code",
   "execution_count": 688,
   "metadata": {},
   "outputs": [
    {
     "name": "stdout",
     "output_type": "stream",
     "text": [
      "              precision    recall  f1-score   support\n",
      "\n",
      "           0       0.83      0.85      0.84       121\n",
      "           1       0.88      0.86      0.87       155\n",
      "\n",
      "    accuracy                           0.86       276\n",
      "   macro avg       0.86      0.86      0.86       276\n",
      "weighted avg       0.86      0.86      0.86       276\n",
      "\n"
     ]
    }
   ],
   "source": [
    "print(classification_report(y_test, previsoes_test))"
   ]
  },
  {
   "cell_type": "markdown",
   "metadata": {},
   "source": [
    "**Dados de Treino**"
   ]
  },
  {
   "cell_type": "code",
   "execution_count": 689,
   "metadata": {},
   "outputs": [
    {
     "name": "stdout",
     "output_type": "stream",
     "text": [
      "Acurácia: 88.77%\n"
     ]
    }
   ],
   "source": [
    "acuracia_train = accuracy_score(y_train, previsoes_train) * 100.0\n",
    "print(\"Acurácia: %.2f%%\" % acuracia_train)"
   ]
  },
  {
   "cell_type": "code",
   "execution_count": 690,
   "metadata": {},
   "outputs": [
    {
     "name": "stdout",
     "output_type": "stream",
     "text": [
      "[[242  47]\n",
      " [ 25 327]]\n"
     ]
    }
   ],
   "source": [
    "print(confusion_matrix(y_train, previsoes_train))"
   ]
  },
  {
   "cell_type": "code",
   "execution_count": 691,
   "metadata": {},
   "outputs": [
    {
     "name": "stdout",
     "output_type": "stream",
     "text": [
      "              precision    recall  f1-score   support\n",
      "\n",
      "           0       0.91      0.84      0.87       289\n",
      "           1       0.87      0.93      0.90       352\n",
      "\n",
      "    accuracy                           0.89       641\n",
      "   macro avg       0.89      0.88      0.89       641\n",
      "weighted avg       0.89      0.89      0.89       641\n",
      "\n"
     ]
    }
   ],
   "source": [
    "print(classification_report(y_train, previsoes_train))"
   ]
  },
  {
   "cell_type": "code",
   "execution_count": 692,
   "metadata": {},
   "outputs": [
    {
     "data": {
      "image/png": "[encoded data removed]",
      "text/plain": [
       "<Figure size 600x400 with 1 Axes>"
      ]
     },
     "metadata": {},
     "output_type": "display_data"
    }
   ],
   "source": [
    "conjunto_dados = ['->>> Teste <<<-', 'Treinamento']\n",
    "\n",
    "acuracia_test_arredondada = np.round(acuracia_test, 2)\n",
    "acuracia_train_arredondada = np.round(acuracia_train, 2)\n",
    "acuracias = [acuracia_test_arredondada, acuracia_train_arredondada]\n",
    "plt.figure(figsize=(6, 4))\n",
    "\n",
    "\n",
    "plt.barh(conjunto_dados, acuracias, color=['hotpink', 'royalblue'])\n",
    "\n",
    "\n",
    "for index, value in enumerate(acuracias):\n",
    "    plt.text(value, index, f'{value}%', va='center', fontsize=10)\n",
    "\n",
    "\n",
    "plt.title('Acurácia do Modelo Random Forest')\n",
    "plt.xlabel('Acurácia (%)')\n",
    "plt.ylabel('Conjunto de Dados')\n",
    "\n",
    "plt.show()"
   ]
  },
  {
   "cell_type": "markdown",
   "metadata": {},
   "source": [
    "### Cross Validation ###"
   ]
  },
  {
   "cell_type": "code",
   "execution_count": 693,
   "metadata": {},
   "outputs": [],
   "source": [
    "kflod = KFold(n_splits = 30, shuffle = True, random_state = 5)"
   ]
  },
  {
   "cell_type": "code",
   "execution_count": 694,
   "metadata": {},
   "outputs": [],
   "source": [
    "modelo = RandomForestClassifier(\n",
    "    n_estimators = 140, criterion = 'entropy',\n",
    "    random_state = 5, max_depth = 4\n",
    ")\n",
    "resultado = cross_val_score(modelo, previsores, alvo, cv = kflod)"
   ]
  },
  {
   "cell_type": "code",
   "execution_count": 695,
   "metadata": {},
   "outputs": [
    {
     "name": "stdout",
     "output_type": "stream",
     "text": [
      "Acurácia média: 85.81%\n"
     ]
    }
   ],
   "source": [
    "print(\"Acurácia média: %.2f%%\" % (resultado.mean() * 100.0))"
   ]
  }
 ],
 "metadata": {
  "kernelspec": {
   "display_name": "venv",
   "language": "python",
   "name": "python3"
  },
  "language_info": {
   "codemirror_mode": {
    "name": "ipython",
    "version": 3
   },
   "file_extension": ".py",
   "mimetype": "text/x-python",
   "name": "python",
   "nbconvert_exporter": "python",
   "pygments_lexer": "ipython3",
   "version": "3.11.5"
  }
 },
 "nbformat": 4,
 "nbformat_minor": 2
}

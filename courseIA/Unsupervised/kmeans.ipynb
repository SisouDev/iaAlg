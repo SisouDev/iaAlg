{
 "cells": [
  {
   "cell_type": "code",
   "execution_count": 3,
   "metadata": {},
   "outputs": [],
   "source": [
    "import pandas as pd\n",
    "import numpy as np\n",
    "import warnings"
   ]
  },
  {
   "cell_type": "code",
   "execution_count": 4,
   "metadata": {},
   "outputs": [],
   "source": [
    "warnings.filterwarnings(\"ignore\")"
   ]
  },
  {
   "cell_type": "markdown",
   "metadata": {},
   "source": [
    "<span style=\"font-size: 12.5px; font-family: 'Trebuchet MS', sans-serif;font-weight: 100; letter-spacing: 0.8px;\">\n",
    "\n",
    "# K-Means Clustering\n",
    "\n",
    "## Introdução\n",
    "\n",
    "K-Means é um algoritmo de clustering que particiona um conjunto de dados em K grupos distintos, onde cada grupo é caracterizado pelo seu centroide. O objetivo é minimizar a variância dentro dos clusters.\n",
    "\n",
    "<img src=\"https://miro.medium.com/v2/resize:fit:1200/1*rw8IUza1dbffBhiA4i0GNQ.png\" width=\"500\">\n",
    "\n",
    "## Parâmetros\n",
    "\n",
    "- **K (Número de Clusters):** Número de grupos a serem formados. Este valor é definido pelo usuário.\n",
    "- **Iterações:** Número máximo de iterações que o algoritmo pode realizar para encontrar os clusters.\n",
    "- **Inicialização:** Método para escolher os centroides iniciais (por exemplo, aleatoriamente ou usando K-Means++).\n",
    "\n",
    "## Passos do Algoritmo K-Means\n",
    "\n",
    "1. **Inicialização:** Selecionar K centroides iniciais.\n",
    "2. **Atribuição de Clusters:** Atribuir cada ponto de dados ao centroide mais próximo.\n",
    "3. **Atualização dos Centroides:** Recalcular os centroides como a média dos pontos de dados atribuídos a cada cluster.\n",
    "4. **Convergência:** Repetir os passos 2 e 3 até que os centroides não mudem significativamente ou até atingir o número máximo de iterações.\n",
    "\n",
    "<img src=\"https://miro.medium.com/v2/resize:fit:832/1*AzX-3FPncrZaIfWbI5EwCw.gif\" width=\"500\">\n",
    "\n",
    "## Fórmulas\n",
    "\n",
    "### Distância Euclidiana\n",
    "\n",
    "A distância euclidiana entre dois pontos $( \\mathbf{x_i} )$ e $( \\mathbf{c_j} )$ é dada por:\n",
    "\n",
    "$[ d(\\mathbf{x_i}, \\mathbf{c_j}) = \\sqrt{\\sum_{k=1}^{n} (x_{ik} - c_{jk})^2} ]$\n",
    "\n",
    "onde $( n )$ é o número de características (dimensões) dos dados.\n",
    "\n",
    "### Recalcular Centroides\n",
    "\n",
    "O novo centroide $( \\mathbf{c_j} )$ para um cluster $( j )$ é calculado como a média dos pontos $( \\mathbf{x_i} )$ no cluster:\n",
    "\n",
    "$[ \\mathbf{c_j} = \\frac{1}{|C_j|} \\sum_{\\mathbf{x_i} \\in C_j} \\mathbf{x_i} ]$\n",
    "\n",
    "onde $( |C_j| )$ é o número de pontos no cluster $( j )$.\n",
    "\n",
    "## Métricas de Avaliação\n",
    "\n",
    "### Inércia (Within-cluster Sum of Squares - WCSS)\n",
    "\n",
    "A inércia mede a soma das distâncias quadradas dos pontos ao centroide mais próximo. O objetivo do K-Means é minimizar a inércia:\n",
    "\n",
    "$[ \\text{WCSS} = \\sum_{j=1}^{K} \\sum_{\\mathbf{x_i} \\in C_j} d(\\mathbf{x_i}, \\mathbf{c_j})^2 ]$\n",
    "\n",
    "### Silhouette Score\n",
    "\n",
    "O Silhouette Score mede quão similar um ponto é ao seu próprio cluster em comparação com outros clusters. É definido como:\n",
    "\n",
    "$[ s(i) = \\frac{b(i) - a(i)}{\\max \\{a(i), b(i)\\}} ]$\n",
    "\n",
    "onde:\n",
    "- $( a(i) )$ é a distância média entre $( \\mathbf{x_i} )$ e todos os outros pontos no mesmo cluster.\n",
    "- $( b(i) )$ é a distância mínima média entre $( \\mathbf{x_i} )$ e todos os pontos nos outros clusters.\n",
    "\n",
    "O Silhouette Score varia de -1 a 1, onde valores próximos de 1 indicam clusters bem definidos.\n",
    "\n",
    "## Determinação do Número Ótimo de Clusters\n",
    "\n",
    "### Método do Cotovelo (Elbow Method)\n",
    "\n",
    "<img src=\"https://www.researchgate.net/publication/339823520/figure/fig3/AS:867521741733888@1583844709013/The-elbow-method-of-k-means.png\" width=\"500\">\n",
    "\n",
    "O Método do Cotovelo é usado para determinar o número ideal de clusters. Ele envolve:\n",
    "\n",
    "1. Executar o K-Means para diferentes valores de K.\n",
    "2. Calcular a inércia (WCSS) para cada valor de K.\n",
    "3. Plotar a inércia contra K.\n",
    "4. Identificar o ponto onde a diminuição na inércia começa a se tornar menos acentuada (o \"cotovelo\").\n",
    "\n",
    "</span>"
   ]
  }
 ],
 "metadata": {
  "kernelspec": {
   "display_name": "venv",
   "language": "python",
   "name": "python3"
  },
  "language_info": {
   "codemirror_mode": {
    "name": "ipython",
    "version": 3
   },
   "file_extension": ".py",
   "mimetype": "text/x-python",
   "name": "python",
   "nbconvert_exporter": "python",
   "pygments_lexer": "ipython3",
   "version": "3.11.5"
  }
 },
 "nbformat": 4,
 "nbformat_minor": 2
}

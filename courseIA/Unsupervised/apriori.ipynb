{
 "cells": [
  {
   "cell_type": "code",
   "execution_count": 5,
   "metadata": {},
   "outputs": [],
   "source": [
    "import pandas as pd\n",
    "import numpy as np\n",
    "from apyori import apriori\n",
    "from tensorflow.keras.callbacks import TensorBoard\n",
    "import warnings\n",
    "import datetime"
   ]
  },
  {
   "cell_type": "code",
   "execution_count": 6,
   "metadata": {},
   "outputs": [],
   "source": [
    "log_dir = \"./tensor/logs/apriori/\" + datetime.datetime.now().strftime(\"%Y%m%d-%H%M%S\")\n",
    "tensorboard_callback = TensorBoard(log_dir=log_dir)"
   ]
  },
  {
   "cell_type": "code",
   "execution_count": 7,
   "metadata": {},
   "outputs": [],
   "source": [
    "warnings.filterwarnings(\"ignore\")"
   ]
  },
  {
   "cell_type": "markdown",
   "metadata": {},
   "source": [
    "<span style=\"font-family: 'Trebuchet MS', sans-serif;\">\n",
    "\n",
    "# Algoritmo Apriori\n",
    "</span>\n",
    "\n",
    "<span style=\"font-size: 13.5px; font-family: 'Trebuchet MS', sans-serif;\">\n",
    "    \n",
    "O algoritmo Apriori é uma técnica popular de aprendizado de máquina utilizada para mineração de regras de associação em conjuntos de dados. Ele é especialmente útil na descoberta de padrões frequentes em grandes volumes de dados transacionais, como cestas de compras em um supermercado ou registros de transações financeiras.\n",
    "\n",
    "O algoritmo Apriori baseia-se no princípio da geração de conjuntos de itens frequentes, ou seja, conjuntos de itens que aparecem juntos com uma alta frequência no conjunto de dados. Ele utiliza esse conceito para gerar regras de associação que indicam a relação entre diferentes itens.\n",
    "\n",
    "---\n",
    "\n",
    "**Funcionamento**\n",
    "\n",
    "O funcionamento do algoritmo Apriori pode ser dividido em três principais etapas:\n",
    "\n",
    "1. **Geração de conjuntos de itens frequentes (itemsets)**: O algoritmo começa identificando todos os itens que aparecem com uma frequência acima de um limiar pré-definido, conhecido como suporte mínimo. Em seguida, ele combina esses itens para formar conjuntos maiores, explorando a propriedade conhecida como \"apriori\", que afirma que se um conjunto de itens é frequente, então todos os seus subconjuntos também devem ser frequentes.\n",
    "\n",
    "2. **Geração de regras de associação**: Com os conjuntos de itens frequentes identificados, o algoritmo Apriori gera todas as possíveis regras de associação a partir desses conjuntos. Uma regra de associação é uma expressão do tipo \"Se {antecedente}, então {consequente}\", onde o antecedente e o consequente são conjuntos de itens.\n",
    "\n",
    "3. **Avaliação das regras**: Finalmente, o algoritmo avalia as regras geradas com base em métricas como confiança e lift para determinar quais são significativas e úteis.\n",
    "\n",
    "---\n",
    "\n",
    "**Parâmetros**\n",
    "\n",
    "Os principais parâmetros do algoritmo Apriori incluem:\n",
    "\n",
    "- **Suporte mínimo**: O limiar de frequência mínimo que um conjunto de itens deve ter para ser considerado frequente.\n",
    "\n",
    "- **Confiança mínima**: A confiança mínima requerida para que uma regra de associação seja considerada significativa.\n",
    "\n",
    "- **Lift mínimo**: O valor mínimo de lift necessário para que uma regra seja considerada interessante.\n",
    "\n",
    "---\n",
    "\n",
    "**Fórmulas**\n",
    "\n",
    "1. **Suporte de um itemset**:\n",
    "$[ Suporte(X) = \\frac{Número\\ de\\ transações\\ contendo\\ X}{Número\\ total\\ de\\ transações} ]$\n",
    "\n",
    "2. **Confiança de uma regra**:\n",
    "$[ Confiança(X \\rightarrow Y) = \\frac{Suporte(X \\cup Y)}{Suporte(X)} ]$\n",
    "\n",
    "3. **Lift de uma regra**:\n",
    "$[ Lift(X \\rightarrow Y) = \\frac{Suporte(X \\cup Y)}{Suporte(X) \\times Suporte(Y)} ]$\n",
    "\n",
    "---\n",
    "\n",
    "**Métricas**\n",
    "\n",
    "- **Suporte**: Mede a frequência com que um conjunto de itens aparece no conjunto de dados.\n",
    "    -  Frequência de um item ou conjunto de itens nas transações. (Ex: Leite aparece em 80% das transações).\n",
    "- **Confiança**: Indica a probabilidade de que o consequente de uma regra seja verdadeiro, dado que o antecedente é verdadeiro.\n",
    "    -  Probabilidade de encontrar B nas transações que contêm A. (Ex: Se alguém compra leite, há 75% de chance de também comprar pão)\n",
    "- **Lift**: Avalia a força da associação entre os itens em uma regra, considerando a frequência esperada de ocorrência do consequente dado o antecedente.\n",
    "    -  Importância da regra comparada à ocorrência esperada se os itens fossem independentes. (Ex: Pão é 1.25 vezes mais provável de ser comprado com leite do que por acaso)\n",
    "\n",
    "---\n",
    "\n",
    "**Informações Técnicas/Uso**\n",
    "Para usar o algoritmo Apriori, é necessário preparar os dados no formato apropriado, geralmente uma matriz binária onde cada linha representa uma transação e cada coluna representa um item. Em seguida, define-se os parâmetros como suporte mínimo e confiança mínima e aplica-se o algoritmo para gerar regras de associação.\n",
    "\n",
    "\n",
    "O algoritmo Apriori é uma ferramenta poderosa para descoberta de padrões em conjuntos de dados transacionais. Ao identificar relações entre itens, ele pode fornecer insights valiosos para a tomada de decisões em diversos domínios, como varejo, marketing e finanças. Com uma compreensão sólida dos conceitos, funcionamento e parâmetros do Apriori, os profissionais de aprendizado de máquina podem aplicá-lo com eficácia em seus projetos.\n",
    "\n",
    "</span>"
   ]
  },
  {
   "cell_type": "markdown",
   "metadata": {},
   "source": [
    "<span style=\"font-family: 'Trebuchet MS', sans-serif;\">\n",
    "\n",
    "## Base Teórica\n",
    "</span>"
   ]
  },
  {
   "cell_type": "code",
   "execution_count": 9,
   "metadata": {},
   "outputs": [
    {
     "data": {
      "text/html": [
       "<div>\n",
       "<style scoped>\n",
       "    .dataframe tbody tr th:only-of-type {\n",
       "        vertical-align: middle;\n",
       "    }\n",
       "\n",
       "    .dataframe tbody tr th {\n",
       "        vertical-align: top;\n",
       "    }\n",
       "\n",
       "    .dataframe thead th {\n",
       "        text-align: right;\n",
       "    }\n",
       "</style>\n",
       "<table border=\"1\" class=\"dataframe\">\n",
       "  <thead>\n",
       "    <tr style=\"text-align: right;\">\n",
       "      <th></th>\n",
       "      <th>0</th>\n",
       "      <th>1</th>\n",
       "      <th>2</th>\n",
       "      <th>3</th>\n",
       "    </tr>\n",
       "  </thead>\n",
       "  <tbody>\n",
       "    <tr>\n",
       "      <th>0</th>\n",
       "      <td>leite</td>\n",
       "      <td>cerveja</td>\n",
       "      <td>pao</td>\n",
       "      <td>manteiga</td>\n",
       "    </tr>\n",
       "    <tr>\n",
       "      <th>1</th>\n",
       "      <td>cafe</td>\n",
       "      <td>pao</td>\n",
       "      <td>manteiga</td>\n",
       "      <td>NaN</td>\n",
       "    </tr>\n",
       "    <tr>\n",
       "      <th>2</th>\n",
       "      <td>cafe</td>\n",
       "      <td>pao</td>\n",
       "      <td>manteiga</td>\n",
       "      <td>NaN</td>\n",
       "    </tr>\n",
       "    <tr>\n",
       "      <th>3</th>\n",
       "      <td>leite</td>\n",
       "      <td>cafe</td>\n",
       "      <td>pao</td>\n",
       "      <td>manteiga</td>\n",
       "    </tr>\n",
       "    <tr>\n",
       "      <th>4</th>\n",
       "      <td>cerveja</td>\n",
       "      <td>NaN</td>\n",
       "      <td>NaN</td>\n",
       "      <td>NaN</td>\n",
       "    </tr>\n",
       "    <tr>\n",
       "      <th>5</th>\n",
       "      <td>manteiga</td>\n",
       "      <td>NaN</td>\n",
       "      <td>NaN</td>\n",
       "      <td>NaN</td>\n",
       "    </tr>\n",
       "    <tr>\n",
       "      <th>6</th>\n",
       "      <td>pao</td>\n",
       "      <td>NaN</td>\n",
       "      <td>NaN</td>\n",
       "      <td>NaN</td>\n",
       "    </tr>\n",
       "    <tr>\n",
       "      <th>7</th>\n",
       "      <td>feijao</td>\n",
       "      <td>NaN</td>\n",
       "      <td>NaN</td>\n",
       "      <td>NaN</td>\n",
       "    </tr>\n",
       "    <tr>\n",
       "      <th>8</th>\n",
       "      <td>arroz</td>\n",
       "      <td>feijao</td>\n",
       "      <td>NaN</td>\n",
       "      <td>NaN</td>\n",
       "    </tr>\n",
       "    <tr>\n",
       "      <th>9</th>\n",
       "      <td>arroz</td>\n",
       "      <td>NaN</td>\n",
       "      <td>NaN</td>\n",
       "      <td>NaN</td>\n",
       "    </tr>\n",
       "  </tbody>\n",
       "</table>\n",
       "</div>"
      ],
      "text/plain": [
       "          0        1         2         3\n",
       "0     leite  cerveja       pao  manteiga\n",
       "1      cafe      pao  manteiga       NaN\n",
       "2      cafe      pao  manteiga       NaN\n",
       "3     leite     cafe       pao  manteiga\n",
       "4   cerveja      NaN       NaN       NaN\n",
       "5  manteiga      NaN       NaN       NaN\n",
       "6       pao      NaN       NaN       NaN\n",
       "7    feijao      NaN       NaN       NaN\n",
       "8     arroz   feijao       NaN       NaN\n",
       "9     arroz      NaN       NaN       NaN"
      ]
     },
     "execution_count": 9,
     "metadata": {},
     "output_type": "execute_result"
    }
   ],
   "source": [
    "base_mercado1 = pd.read_csv('../data/mercado.csv', sep = ',', header = None)\n",
    "base_mercado1"
   ]
  },
  {
   "cell_type": "markdown",
   "metadata": {},
   "source": [
    "**Transformando DF em Lista**"
   ]
  },
  {
   "cell_type": "code",
   "execution_count": 10,
   "metadata": {},
   "outputs": [],
   "source": [
    "transacoes = []\n",
    "\n",
    "for i in range(len(base_mercado1)):\n",
    "    transacoes.append([str(base_mercado1.values[i, j]) for j in range(base_mercado1.shape[1])])"
   ]
  },
  {
   "cell_type": "code",
   "execution_count": 11,
   "metadata": {},
   "outputs": [
    {
     "data": {
      "text/plain": [
       "[['leite', 'cerveja', 'pao', 'manteiga'],\n",
       " ['cafe', 'pao', 'manteiga', 'nan'],\n",
       " ['cafe', 'pao', 'manteiga', 'nan'],\n",
       " ['leite', 'cafe', 'pao', 'manteiga'],\n",
       " ['cerveja', 'nan', 'nan', 'nan'],\n",
       " ['manteiga', 'nan', 'nan', 'nan'],\n",
       " ['pao', 'nan', 'nan', 'nan'],\n",
       " ['feijao', 'nan', 'nan', 'nan'],\n",
       " ['arroz', 'feijao', 'nan', 'nan'],\n",
       " ['arroz', 'nan', 'nan', 'nan']]"
      ]
     },
     "execution_count": 11,
     "metadata": {},
     "output_type": "execute_result"
    }
   ],
   "source": [
    "transacoes"
   ]
  },
  {
   "cell_type": "code",
   "execution_count": 16,
   "metadata": {},
   "outputs": [],
   "source": [
    "regras = apriori(\n",
    "    transactions = transacoes,\n",
    "    min_support = 0.3,\n",
    "    min_confidence = 0.8,\n",
    "    min_lift = 2\n",
    ")\n",
    "resultados = list(regras)"
   ]
  },
  {
   "cell_type": "code",
   "execution_count": 17,
   "metadata": {},
   "outputs": [
    {
     "data": {
      "text/plain": [
       "[RelationRecord(items=frozenset({'manteiga', 'cafe'}), support=0.3, ordered_statistics=[OrderedStatistic(items_base=frozenset({'cafe'}), items_add=frozenset({'manteiga'}), confidence=1.0, lift=2.0)]),\n",
       " RelationRecord(items=frozenset({'pao', 'cafe'}), support=0.3, ordered_statistics=[OrderedStatistic(items_base=frozenset({'cafe'}), items_add=frozenset({'pao'}), confidence=1.0, lift=2.0)]),\n",
       " RelationRecord(items=frozenset({'pao', 'manteiga', 'cafe'}), support=0.3, ordered_statistics=[OrderedStatistic(items_base=frozenset({'cafe'}), items_add=frozenset({'pao', 'manteiga'}), confidence=1.0, lift=2.5), OrderedStatistic(items_base=frozenset({'manteiga', 'cafe'}), items_add=frozenset({'pao'}), confidence=1.0, lift=2.0), OrderedStatistic(items_base=frozenset({'pao', 'cafe'}), items_add=frozenset({'manteiga'}), confidence=1.0, lift=2.0)])]"
      ]
     },
     "execution_count": 17,
     "metadata": {},
     "output_type": "execute_result"
    }
   ],
   "source": [
    "resultados"
   ]
  },
  {
   "cell_type": "code",
   "execution_count": 19,
   "metadata": {},
   "outputs": [
    {
     "data": {
      "text/plain": [
       "RelationRecord(items=frozenset({'pao', 'manteiga', 'cafe'}), support=0.3, ordered_statistics=[OrderedStatistic(items_base=frozenset({'cafe'}), items_add=frozenset({'pao', 'manteiga'}), confidence=1.0, lift=2.5), OrderedStatistic(items_base=frozenset({'manteiga', 'cafe'}), items_add=frozenset({'pao'}), confidence=1.0, lift=2.0), OrderedStatistic(items_base=frozenset({'pao', 'cafe'}), items_add=frozenset({'manteiga'}), confidence=1.0, lift=2.0)])"
      ]
     },
     "execution_count": 19,
     "metadata": {},
     "output_type": "execute_result"
    }
   ],
   "source": [
    "resultados[2]"
   ]
  },
  {
   "cell_type": "markdown",
   "metadata": {},
   "source": [
    "<span style=\"font-family: 'Trebuchet MS', sans-serif;\">\n",
    "\n",
    "### Retorno\n",
    "</span>"
   ]
  },
  {
   "cell_type": "markdown",
   "metadata": {},
   "source": [
    "<span style=\"font-size: 12px; font-family: 'Trebuchet MS', sans-serif; line-height: 0.5; letter-spacing: 0.2px; font-weight: 100;\">\n",
    "\n",
    "---\n",
    "\n",
    "#### Explicação do retorno do algoritmo Apriori\n",
    "```python\n",
    "RelationRecord(\n",
    "    items = frozenset({'pao', 'manteiga', 'cafe'}), \n",
    "    support=0.3, \n",
    "    ordered_statistics=[\n",
    "        OrderedStatistic(\n",
    "            items_base=frozenset({'cafe'}), \n",
    "            items_add=frozenset({'pao', 'manteiga'}), \n",
    "            confidence=1.0, \n",
    "            lift=2.5\n",
    "        ), \n",
    "        OrderedStatistic(\n",
    "            items_base=frozenset({'manteiga', 'cafe'}), \n",
    "            items_add=frozenset({'pao'}), \n",
    "            confidence=1.0, \n",
    "            lift=2.0\n",
    "        ), \n",
    "        OrderedStatistic(\n",
    "            items_base=frozenset({'pao', 'cafe'}), \n",
    "            items_add=frozenset({'manteiga'}), \n",
    "            confidence=1.0, \n",
    "            lift=2.0\n",
    "        )\n",
    "    ]\n",
    ")\n",
    "```\n",
    "---\n",
    "##### items\n",
    "- `items=frozenset({'pao', 'manteiga', 'cafe'})` Conjunto de itens que aparecem frequentemente juntos nas transações.\n",
    "---\n",
    "\n",
    "##### support\n",
    "- `support=0.3` Proporção de transações que contêm o itemset completo. Neste caso, 30% das transações contêm `pao`, `manteiga` e `cafe`.\n",
    "---\n",
    "##### ordered_statistics\n",
    "- Lista de objetos `OrderedStatistic`, cada um representando uma regra de associação derivada do itemset frequente.\n",
    "---\n",
    "##### Componentes do OrderedStatistic\n",
    "###### items_base\n",
    "- `items_base=frozenset({'cafe'})` Antecedente da regra de associação (lado esquerdo da regra).\n",
    "###### items_add\n",
    "- `items_add=frozenset({'pao', 'manteiga'})` Consequente da regra de associação (lado direito da regra).\n",
    "###### confidence\n",
    "- `confidence=1.0` Confiança da regra, indicando a probabilidade de `items_add` aparecer nas transações que contêm `items_base`. Aqui, 100%.\n",
    "###### lift\n",
    "- `lift=2.5` Lift da regra, medindo a importância da regra comparada à ocorrência esperada do consequente se antecedente e consequente fossem independentes. Aqui, 2.5 vezes mais provável.\n",
    "\n",
    "---\n",
    "\n",
    "##### Resumo das Regras Geradas\n",
    "###### Regra 1:\n",
    "- **Antecedente:** `cafe`\n",
    "\n",
    "- **Consequente:** `pao, manteiga`\n",
    "\n",
    "- **Confiança:** 1.0 (100%)\n",
    "\n",
    "- **Lift:** 2.5\n",
    "###### Regra 2:\n",
    "- **Antecedente:** `manteiga, cafe`\n",
    "\n",
    "- **Consequente:** `pao`\n",
    "\n",
    "- **Confiança:** 1.0 (100%)\n",
    "\n",
    "- **Lift:** 2.0\n",
    "###### Regra 3:\n",
    "- **Antecedente:** `pao, cafe`\n",
    "\n",
    "- **Consequente:** `manteiga`\n",
    "\n",
    "- **Confiança:** 1.0 (100%)\n",
    "\n",
    "- **Lift:** 2.0\n",
    "\n",
    "---\n",
    "\n",
    "##### Interpretação\n",
    "- **Suporte:** O itemset `{'pao', 'manteiga', 'cafe'}` aparece em 30% das transações.\n",
    "\n",
    "- **Confiança:** Indica que o consequente sempre aparece quando o antecedente está presente.\n",
    "\n",
    "- **Lift:** Indica que a presença do antecedente aumenta a probabilidade do consequente mais do que seria esperado por acaso, sugerindo uma associação forte entre os itens.\n",
    "---\n",
    "</span>"
   ]
  },
  {
   "cell_type": "markdown",
   "metadata": {},
   "source": [
    "<span style=\"font-family: 'Trebuchet MS', sans-serif;\">\n",
    "    \n",
    "### Armazenando as Regras\n",
    "\n",
    "</span>"
   ]
  },
  {
   "cell_type": "code",
   "execution_count": 23,
   "metadata": {},
   "outputs": [],
   "source": [
    "A = []\n",
    "B = []\n",
    "suporte = []\n",
    "confianca = []\n",
    "lift = []\n",
    "\n",
    "for resultado in resultados:\n",
    "    s = resultado[1]\n",
    "    result_rules = resultado[2]\n",
    "    for result_rule in result_rules:\n",
    "        a = list(result_rule[0])\n",
    "        b = list(result_rule[1])\n",
    "        c = result_rule[2]\n",
    "        l = result_rule[3]\n",
    "        A.append(a)\n",
    "        B.append(b)\n",
    "        suporte.append(s)\n",
    "        confianca.append(c)\n",
    "        lift.append(l)"
   ]
  },
  {
   "cell_type": "code",
   "execution_count": 24,
   "metadata": {},
   "outputs": [
    {
     "data": {
      "text/plain": [
       "[['cafe'], ['cafe'], ['cafe'], ['manteiga', 'cafe'], ['pao', 'cafe']]"
      ]
     },
     "execution_count": 24,
     "metadata": {},
     "output_type": "execute_result"
    }
   ],
   "source": [
    "# Se\n",
    "A"
   ]
  },
  {
   "cell_type": "code",
   "execution_count": 25,
   "metadata": {},
   "outputs": [
    {
     "data": {
      "text/plain": [
       "[['manteiga'], ['pao'], ['pao', 'manteiga'], ['pao'], ['manteiga']]"
      ]
     },
     "execution_count": 25,
     "metadata": {},
     "output_type": "execute_result"
    }
   ],
   "source": [
    "# Então\n",
    "B"
   ]
  },
  {
   "cell_type": "code",
   "execution_count": 26,
   "metadata": {},
   "outputs": [
    {
     "data": {
      "text/plain": [
       "[0.3, 0.3, 0.3, 0.3, 0.3]"
      ]
     },
     "execution_count": 26,
     "metadata": {},
     "output_type": "execute_result"
    }
   ],
   "source": [
    "suporte"
   ]
  },
  {
   "cell_type": "code",
   "execution_count": 27,
   "metadata": {},
   "outputs": [
    {
     "data": {
      "text/plain": [
       "[1.0, 1.0, 1.0, 1.0, 1.0]"
      ]
     },
     "execution_count": 27,
     "metadata": {},
     "output_type": "execute_result"
    }
   ],
   "source": [
    "confianca"
   ]
  },
  {
   "cell_type": "code",
   "execution_count": 28,
   "metadata": {},
   "outputs": [
    {
     "data": {
      "text/plain": [
       "[2.0, 2.0, 2.5, 2.0, 2.0]"
      ]
     },
     "execution_count": 28,
     "metadata": {},
     "output_type": "execute_result"
    }
   ],
   "source": [
    "lift"
   ]
  },
  {
   "cell_type": "code",
   "execution_count": 31,
   "metadata": {},
   "outputs": [
    {
     "data": {
      "text/html": [
       "<div>\n",
       "<style scoped>\n",
       "    .dataframe tbody tr th:only-of-type {\n",
       "        vertical-align: middle;\n",
       "    }\n",
       "\n",
       "    .dataframe tbody tr th {\n",
       "        vertical-align: top;\n",
       "    }\n",
       "\n",
       "    .dataframe thead th {\n",
       "        text-align: right;\n",
       "    }\n",
       "</style>\n",
       "<table border=\"1\" class=\"dataframe\">\n",
       "  <thead>\n",
       "    <tr style=\"text-align: right;\">\n",
       "      <th></th>\n",
       "      <th>A</th>\n",
       "      <th>B</th>\n",
       "      <th>suporte</th>\n",
       "      <th>confianca</th>\n",
       "      <th>lift</th>\n",
       "    </tr>\n",
       "  </thead>\n",
       "  <tbody>\n",
       "    <tr>\n",
       "      <th>2</th>\n",
       "      <td>[cafe]</td>\n",
       "      <td>[pao, manteiga]</td>\n",
       "      <td>0.3</td>\n",
       "      <td>1.0</td>\n",
       "      <td>2.5</td>\n",
       "    </tr>\n",
       "    <tr>\n",
       "      <th>0</th>\n",
       "      <td>[cafe]</td>\n",
       "      <td>[manteiga]</td>\n",
       "      <td>0.3</td>\n",
       "      <td>1.0</td>\n",
       "      <td>2.0</td>\n",
       "    </tr>\n",
       "    <tr>\n",
       "      <th>1</th>\n",
       "      <td>[cafe]</td>\n",
       "      <td>[pao]</td>\n",
       "      <td>0.3</td>\n",
       "      <td>1.0</td>\n",
       "      <td>2.0</td>\n",
       "    </tr>\n",
       "    <tr>\n",
       "      <th>3</th>\n",
       "      <td>[manteiga, cafe]</td>\n",
       "      <td>[pao]</td>\n",
       "      <td>0.3</td>\n",
       "      <td>1.0</td>\n",
       "      <td>2.0</td>\n",
       "    </tr>\n",
       "    <tr>\n",
       "      <th>4</th>\n",
       "      <td>[pao, cafe]</td>\n",
       "      <td>[manteiga]</td>\n",
       "      <td>0.3</td>\n",
       "      <td>1.0</td>\n",
       "      <td>2.0</td>\n",
       "    </tr>\n",
       "  </tbody>\n",
       "</table>\n",
       "</div>"
      ],
      "text/plain": [
       "                  A                B  suporte  confianca  lift\n",
       "2            [cafe]  [pao, manteiga]      0.3        1.0   2.5\n",
       "0            [cafe]       [manteiga]      0.3        1.0   2.0\n",
       "1            [cafe]            [pao]      0.3        1.0   2.0\n",
       "3  [manteiga, cafe]            [pao]      0.3        1.0   2.0\n",
       "4       [pao, cafe]       [manteiga]      0.3        1.0   2.0"
      ]
     },
     "execution_count": 31,
     "metadata": {},
     "output_type": "execute_result"
    }
   ],
   "source": [
    "rules_df = pd.DataFrame({\n",
    "    'A': A,\n",
    "    'B': B,\n",
    "    'suporte': suporte,\n",
    "    'confianca': confianca,\n",
    "    'lift': lift\n",
    "})\n",
    "rules_df.sort_values(by = 'lift', ascending = False)"
   ]
  }
 ],
 "metadata": {
  "kernelspec": {
   "display_name": "venv",
   "language": "python",
   "name": "python3"
  },
  "language_info": {
   "codemirror_mode": {
    "name": "ipython",
    "version": 3
   },
   "file_extension": ".py",
   "mimetype": "text/x-python",
   "name": "python",
   "nbconvert_exporter": "python",
   "pygments_lexer": "ipython3",
   "version": "3.11.5"
  }
 },
 "nbformat": 4,
 "nbformat_minor": 2
}

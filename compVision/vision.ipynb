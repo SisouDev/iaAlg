{
 "cells": [
  {
   "cell_type": "code",
   "execution_count": 6,
   "metadata": {},
   "outputs": [],
   "source": [
    "import warnings\n",
    "import pandas as pd\n",
    "import numpy as np\n",
    "import cv2 as cv"
   ]
  },
  {
   "cell_type": "code",
   "execution_count": 7,
   "metadata": {},
   "outputs": [],
   "source": [
    "warnings.filterwarnings(\"ignore\")"
   ]
  },
  {
   "cell_type": "markdown",
   "metadata": {},
   "source": [
    "<span style=\"font-size: 12px; font-family: 'Trebuchet MS', sans-serif;font-weight: 100; letter-spacing: 0.8px;\">\n",
    "\n",
    "# Visão Computacional:\n",
    "A visão computacional é uma área da inteligência artificial que se concentra no desenvolvimento de algoritmos e técnicas para que computadores possam interpretar </br>\n",
    "e entender o conteúdo visual de imagens e vídeos.\n",
    "\n",
    "---\n",
    "**Detecção de Faces**\n",
    "\n",
    "A detecção de faces é uma técnica fundamental em visão computacional, utilizada em uma variedade de aplicações, como reconhecimento facial, </br>\n",
    "análise de emoções e sistemas de segurança. Existem várias abordagens para a detecção de faces, incluindo métodos baseados em características e aprendizado profundo.</br>\n",
    "Alguns dos algoritmos mais populares para detecção de faces incluem:\n",
    "\n",
    "- **Viola-Jones**: Um dos primeiros e mais amplamente utilizados algoritmos para detecção de faces. Ele utiliza um classificador em cascata treinado com características de Haar.\n",
    "- **Histogram of Oriented Gradients (HOG)**: Uma técnica que extrai características baseadas em gradientes de intensidade para representar faces em uma imagem.\n",
    "- **Redes Neurais Convolucionais (CNNs)**: Abordagem mais recente e eficaz, que utiliza redes neurais convolucionais profundas para aprender características diretamente das imagens.\n",
    "\n",
    "**Detecção de Objetos em Cascata**\n",
    "\n",
    "O método de detecção de objetos em cascata é uma técnica clássica amplamente utilizada para detecção de objetos em imagens. Ele é especialmente popular na detecção de faces,</br> \n",
    "mas também pode ser aplicado a outros tipos de objetos. O método de detecção em cascata utiliza um classificador em cascata treinado com características específicas do </br>\n",
    "objeto de interesse. Alguns dos exemplos mais comuns incluem:\n",
    "\n",
    "- **Haar Cascades**: Uma abordagem popular para detecção de faces e outros objetos. O método utiliza um conjunto de características de Haar, que são padrões visuais simples, para treinar um classificador em cascata.\n",
    "- **LBP (Local Binary Patterns) Cascades**: Uma extensão do método de detecção em cascata que utiliza padrões binários locais para treinar o classificador. É especialmente eficaz em aplicações onde a iluminação varia.\n",
    "\n",
    "<img src=\"https://miro.medium.com/v2/resize:fit:1400/1*JhFCP1CjF7fRYt9pLldMsw.jpeg\" width=\"400\">\n",
    "\n",
    "\n",
    "---\n",
    "**Detecção de Objetos**\n",
    "\n",
    "Além da detecção de faces, a visão computacional também é utilizada para detectar uma ampla variedade de objetos em imagens e vídeos.</br> \n",
    "Alguns dos algoritmos comuns para detecção de objetos incluem:\n",
    "\n",
    "- **YOLO (You Only Look Once)**: Um dos algoritmos mais rápidos e eficientes para detecção de objetos em tempo real. Ele divide a imagem em uma grade e prevê caixas delimitadoras e classes diretamente.\n",
    "- **Faster R-CNN**: Um método baseado em regiões que utiliza uma rede neural convolucional para extrair características e uma rede secundária para gerar propostas de regiões.\n",
    "- **SSD (Single Shot Multibox Detector)**: Um método que combina a eficiência do YOLO com a precisão do Faster R-CNN.\n",
    "\n",
    "---\n",
    "**Reconhecimento Facial**\n",
    "\n",
    "O reconhecimento facial é uma aplicação importante da visão computacional, com uma ampla gama de aplicações, desde sistemas de segurança </br>\n",
    "até reconhecimento de emoções em sistemas de interação humano-computador. Alguns dos métodos comuns para reconhecimento facial incluem:\n",
    "\n",
    "- **Eigenfaces**: Uma técnica clássica de análise de componentes principais (PCA) para representação e reconhecimento de faces.\n",
    "- **Fisherfaces**: Uma extensão do Eigenfaces que leva em consideração informações de classe para melhorar o desempenho do reconhecimento facial.\n",
    "- **Local Binary Patterns (LBP)**: Um método que extrai padrões locais de textura da imagem para representar e reconhecer faces.\n",
    "\n",
    "<img src=\"https://static.javatpoint.com/tutorial/opencv/images/face-detection-and-face-recognition6.png\" width=\"400\">\n",
    "\n",
    "- **Redes Neurais Convolucionais (CNNs)**: Abordagem mais recente e eficaz, que utiliza redes neurais convolucionais profundas para aprender características diretamente das imagens de faces.\n",
    "\n",
    "---\n",
    "**Rastreamento de Objetos**\n",
    "\n",
    "O rastreamento de objetos é utilizado para seguir o movimento de objetos em sequências de vídeo. Ele é comumente utilizado em aplicações </br>\n",
    "de vigilância, rastreamento de veículos e análise de movimento. Alguns dos métodos populares para rastreamento de objetos incluem:\n",
    "\n",
    "- **Kalman Filter**: Um filtro estatístico que utiliza uma série de medições para prever a próxima posição de um objeto.\n",
    "- **Particle Filter (PF)**: Um método de estimativa que utiliza uma amostra de partículas para representar a distribuição de probabilidade do estado do objeto.\n",
    "- **Correlação de Template**: Uma técnica simples que compara uma região de interesse em cada frame do vídeo com um modelo de referência.\n",
    "\n",
    "**CSRT**: </br>\n",
    "O método CSRT (Discriminative Correlation Filter with Channel and Spatial Reliability) é um algoritmo popular para rastreamento de objetos em vídeos. Ele é baseado em filtros de correlação discriminativos e utiliza informações espaciais e de canal para melhorar a precisão do rastreamento. O CSRT é conhecido por sua capacidade de rastreamento robusto em condições desafiadoras, como mudanças de iluminação, oclusões parciais e deformações do objeto.\n",
    "O CSRT opera em duas etapas principais: inicialização e atualização. Durante a inicialização, o algoritmo utiliza uma região de interesse (ROI) inicial para extrair características discriminativas do objeto a ser rastreado. Essas características são usadas para treinar um filtro de correlação discriminativo, que é então usado para localizar o objeto em frames subsequentes do vídeo. Durante a atualização, o filtro é adaptado dinamicamente para compensar mudanças no objeto, como rotação, escala e deformação.\n",
    "\n",
    "<img src=\"https://user-images.githubusercontent.com/12802864/26883749-54b16eae-4b9e-11e7-8506-94c211331218.png\" width=\"400\">\n",
    "\n",
    "O método CSRT demonstrou um desempenho robusto em uma variedade de cenários e é amplamente utilizado em aplicações de rastreamento de objetos em tempo real, como vigilância, monitoramento de tráfego e análise de vídeo forense.\n",
    "\n",
    "</span>"
   ]
  },
  {
   "cell_type": "code",
   "execution_count": 8,
   "metadata": {},
   "outputs": [],
   "source": [
    "img_test = cv.imread('./data/images/workplace.jpg')"
   ]
  },
  {
   "cell_type": "code",
   "execution_count": 9,
   "metadata": {},
   "outputs": [],
   "source": [
    "cv.imshow('Workplace Image', img_test)\n",
    "cv.waitKey(0)\n",
    "cv.destroyAllWindows()"
   ]
  },
  {
   "cell_type": "code",
   "execution_count": 10,
   "metadata": {},
   "outputs": [],
   "source": [
    "detector_face = cv.CascadeClassifier('./data/xml/frontalface.xml')"
   ]
  },
  {
   "cell_type": "code",
   "execution_count": 12,
   "metadata": {},
   "outputs": [],
   "source": [
    "gray_img = cv.cvtColor(img_test, cv.COLOR_BGR2GRAY)\n",
    "cv.imshow('Gray Scale', gray_img)\n",
    "cv.waitKey(0)\n",
    "cv.destroyAllWindows()"
   ]
  },
  {
   "cell_type": "code",
   "execution_count": 13,
   "metadata": {},
   "outputs": [],
   "source": [
    "detections = detector_face.detectMultiScale(gray_img)"
   ]
  },
  {
   "cell_type": "code",
   "execution_count": 14,
   "metadata": {},
   "outputs": [
    {
     "data": {
      "text/plain": [
       "array([[ 284,  263,  113,  113],\n",
       "       [1148,  261,  129,  129],\n",
       "       [  44,  919,   30,   30],\n",
       "       [ 928,  488,  172,  172],\n",
       "       [ 229,  509,  142,  142],\n",
       "       [1639,  159,  141,  141],\n",
       "       [ 103,  784,   56,   56]])"
      ]
     },
     "execution_count": 14,
     "metadata": {},
     "output_type": "execute_result"
    }
   ],
   "source": [
    "detections"
   ]
  },
  {
   "cell_type": "code",
   "execution_count": 15,
   "metadata": {},
   "outputs": [
    {
     "data": {
      "text/plain": [
       "7"
      ]
     },
     "execution_count": 15,
     "metadata": {},
     "output_type": "execute_result"
    }
   ],
   "source": [
    "len(detections)"
   ]
  },
  {
   "cell_type": "code",
   "execution_count": 23,
   "metadata": {},
   "outputs": [],
   "source": [
    "for(x, y, l, a) in detections:\n",
    "    cv.rectangle(img_test, (x, y), (x + l, y + a), (0,255,0), 2)\n",
    "cv.imshow('Workplace Image', img_test)\n",
    "cv.waitKey(0)\n",
    "cv.destroyAllWindows()"
   ]
  }
 ],
 "metadata": {
  "kernelspec": {
   "display_name": "venv",
   "language": "python",
   "name": "python3"
  },
  "language_info": {
   "codemirror_mode": {
    "name": "ipython",
    "version": 3
   },
   "file_extension": ".py",
   "mimetype": "text/x-python",
   "name": "python",
   "nbconvert_exporter": "python",
   "pygments_lexer": "ipython3",
   "version": "3.11.5"
  }
 },
 "nbformat": 4,
 "nbformat_minor": 2
}
